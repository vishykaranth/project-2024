{
  "nbformat": 4,
  "nbformat_minor": 0,
  "metadata": {
    "colab": {
      "name": "Introduction to programming: Python for beginners.ipynb",
      "provenance": [],
      "collapsed_sections": [
        "rDyFlkw1DnX_",
        "lLgIUzF_PwR7",
        "jxT57KJoPSs3",
        "2eRI479WVjka",
        "4i61CcItIwUv",
        "jvxBKZp8nRZP",
        "6wz3rtllMw6k",
        "JOGgKUXDx356"
      ]
    },
    "kernelspec": {
      "name": "python3",
      "display_name": "Python 3"
    }
  },
  "cells": [
    {
      "cell_type": "markdown",
      "metadata": {
        "id": "rDyFlkw1DnX_"
      },
      "source": [
        "# Task 1 \n"
      ]
    },
    {
      "cell_type": "code",
      "metadata": {
        "id": "6oNEjs4RbFo8"
      },
      "source": [
        "def airhelp() -> str:\n",
        "  return \"AirHelp\"\n",
        "\n",
        "airhelp()"
      ],
      "execution_count": null,
      "outputs": []
    },
    {
      "cell_type": "code",
      "metadata": {
        "id": "-2d4bfTpaaUB"
      },
      "source": [
        "from datetime import date, timedelta\n",
        "\n",
        "def yesterday() -> date:\n",
        "  return date.today() - timedelta(days=1)\n",
        "\n",
        "yesterday()"
      ],
      "execution_count": null,
      "outputs": []
    },
    {
      "cell_type": "code",
      "metadata": {
        "id": "glbGi1MgD0RH"
      },
      "source": [
        "# Write a function with a name `hello_world` that **returns**: \"Hello world!\". Fill the gaps with Python code. \n",
        "\n",
        "def AAA() -> str:\n",
        "  return BBB\n",
        "\n",
        "hello_world()"
      ],
      "execution_count": null,
      "outputs": []
    },
    {
      "cell_type": "markdown",
      "metadata": {
        "id": "lLgIUzF_PwR7"
      },
      "source": [
        "# Task 2: \n"
      ]
    },
    {
      "cell_type": "code",
      "metadata": {
        "id": "mCBTZQCZbaMD"
      },
      "source": [
        "def y(x: int) -> int:\n",
        "  return 2 * x\n",
        "\n",
        "y(10)"
      ],
      "execution_count": null,
      "outputs": []
    },
    {
      "cell_type": "code",
      "metadata": {
        "id": "e1GeGmhqbjIw"
      },
      "source": [
        "from typing import List\n",
        "\n",
        "def odds(numbers: List[int]) -> List[int]:\n",
        "  return [number for number in numbers if number % 2 != 0]\n",
        "\n",
        "odds([1, 2, 3, 4, 5, 6, 7, 8, 9])"
      ],
      "execution_count": null,
      "outputs": []
    },
    {
      "cell_type": "code",
      "metadata": {
        "id": "g8oV4dh_PwR8"
      },
      "source": [
        "# Write a function that greets the user, user's name is provided via a parameter. Return string with injected user name.\n",
        "\n",
        "def CCC(DDD: str) -> str:\n",
        "  return f\"Hello, {DDD} 👋\"\n",
        "\n",
        "print(hello(\"Kamil\")) # Hello, Kamil! 👋\n",
        "print(hello(\"Piotr\")) # Hello, Piotr! 👋\n",
        "print(hello(\"Marta\")) # Hello, Marta! 👋"
      ],
      "execution_count": null,
      "outputs": []
    },
    {
      "cell_type": "markdown",
      "metadata": {
        "id": "jxT57KJoPSs3"
      },
      "source": [
        "# Task 3: \n"
      ]
    },
    {
      "cell_type": "code",
      "metadata": {
        "id": "lLU8BZZSdRZa"
      },
      "source": [
        "class Person:\n",
        "  def __init__(self, name: str, surname: str, age: int) -> None:\n",
        "    self.name = name\n",
        "    self.surname = surname\n",
        "    self.age = age\n",
        "\n",
        "p0 = Person(\"Anja\", \"Rubik\", 37)\n",
        "p1 = Person(\"Elon\", \"Musk\", 49)\n",
        "\n",
        "def introduce_person(person: Person) -> str:\n",
        "  return f\"{person.name} is {person.age} years old.\"\n",
        "\n",
        "print(introduce_person(p0))\n",
        "print(introduce_person(p1))"
      ],
      "execution_count": null,
      "outputs": []
    },
    {
      "cell_type": "code",
      "metadata": {
        "id": "9kZa8oAbPSs4"
      },
      "source": [
        "# Build a new data type - Message. Message should have 3 attributes: `content`, `sender_email` and `received_at`. Fill the gaps.\n",
        "\n",
        "from datetime import datetime\n",
        "\n",
        "class Message:\n",
        "  def EEE(self, FFF: str, GGG: str, HHH: datetime) -> None:\n",
        "    self.FFF = FFF\n",
        "    self.GGG = GGG\n",
        "    self.HHH = HHH\n",
        "\n",
        "m0 = Message(\"Hello! How are you?\", \"adam@gmail.com\", datetime(2021, 4, 21, 12, 0, 0))\n",
        "m1 = Message(\"I am fine!\",          \"dan@gmail.com\",  datetime.utcnow())\n",
        "\n",
        "print(m0.content, m0.sender_email, m0.received_at)\n",
        "print(m1.content, m1.sender_email, m1.received_at)"
      ],
      "execution_count": null,
      "outputs": []
    },
    {
      "cell_type": "markdown",
      "metadata": {
        "id": "2eRI479WVjka"
      },
      "source": [
        "# Task 4: \n"
      ]
    },
    {
      "cell_type": "code",
      "metadata": {
        "id": "1u5ekl3OfHoJ"
      },
      "source": [
        "class Person:\n",
        "  def __init__(self, name: str, surname: str, age: int) -> None:\n",
        "    self.name = name\n",
        "    self.surname = surname\n",
        "    self.age = age\n",
        "\n",
        "  def introduce(self) -> str:\n",
        "    return f\"{self.name} is {self.age} years old.\"\n",
        "\n",
        "p0 = Person(\"Anja\", \"Rubik\", 37)\n",
        "p1 = Person(\"Elon\", \"Musk\", 49)\n",
        "\n",
        "print(p0.introduce())\n",
        "print(p1.introduce())"
      ],
      "execution_count": null,
      "outputs": []
    },
    {
      "cell_type": "code",
      "metadata": {
        "id": "8RzdyrbNe2yx"
      },
      "source": [
        "# Extend `Message`. Add a method that will return message language."
      ],
      "execution_count": null,
      "outputs": []
    },
    {
      "cell_type": "code",
      "metadata": {
        "id": "gzrXvaK_WmxA"
      },
      "source": [
        "! pip install langdetect"
      ],
      "execution_count": null,
      "outputs": []
    },
    {
      "cell_type": "code",
      "metadata": {
        "id": "DpnviQcAVjkc"
      },
      "source": [
        "from langdetect import detect\n",
        "\n",
        "class Message:\n",
        "  def __init__(self, content: str, sender_email: str, received_at: datetime) -> None:\n",
        "    self.content = content\n",
        "    self.sender_email = sender_email\n",
        "    self.received_at = received_at\n",
        "    \n",
        "  @property\n",
        "  def language(self) -> str:\n",
        "    return detect(self.JJJ).upper()\n",
        "\n",
        "m0 = Message(\"Hi Johny.\",            \"adam@gmail.com\", datetime(2021, 4, 21, 12, 0, 0))\n",
        "m1 = Message(\"こんにちは、Akikoさん。\", \"dan@gmail.com\",  datetime(2021, 4, 21, 13, 0, 0))\n",
        "\n",
        "print(f\"'{m0.content}' is in {m0.language}\")  # This should print: \"'Hi Johny.' is in EN\"\n",
        "print(f\"'{m1.content}' is in {m1.language}\")  # This should print: \"'こんにちは、Akikoさん。' is in JA\""
      ],
      "execution_count": null,
      "outputs": []
    },
    {
      "cell_type": "markdown",
      "metadata": {
        "id": "4i61CcItIwUv"
      },
      "source": [
        "# Task 5: "
      ]
    },
    {
      "cell_type": "code",
      "metadata": {
        "id": "UmHhUjSafdSV"
      },
      "source": [
        "def print_people(people: List[Person]) -> None:\n",
        "  for i, person in enumerate(people):\n",
        "    print(i, person.name, person.surname)\n",
        "\n",
        "p0 = Person(\"Anja\", \"Rubik\", 37)\n",
        "p1 = Person(\"Elon\", \"Musk\", 49)\n",
        "p2 = Person(\"Abel\", \"Tesfaye\", 31)\n",
        "p3 = Person(\"Guido\", \"van Rossum\", 65)\n",
        "\n",
        "\n",
        "people = [p0, p1, p2, p3]\n",
        "\n",
        "print_people(people)"
      ],
      "execution_count": null,
      "outputs": []
    },
    {
      "cell_type": "code",
      "metadata": {
        "id": "AW4cx5OugafV"
      },
      "source": [
        "people[2].surname"
      ],
      "execution_count": null,
      "outputs": []
    },
    {
      "cell_type": "code",
      "metadata": {
        "id": "JYGq-YtQIwUx"
      },
      "source": [
        "from typing import List\n",
        "\n",
        "m0 = Message(\"Today is a beautiful day\",          \"tom@gmail.com\",  datetime(2020, 1,  1))\n",
        "m1 = Message(\"Today is rather average day\",       \"adam@gmail.com\", datetime(2005, 12, 5))\n",
        "m2 = Message(\"Dziś jest piękny dzień\",            \"ewa@gmail.com\",  datetime(2021, 4,  21))\n",
        "m3 = Message(\"Aujourd'hui est une belle journée\", \"tina@gmail.com\", datetime(2020, 12, 5))\n",
        "\n",
        "def print_messages(messages: List[Message]) -> None:\n",
        "  for i, message in enumerate(messages):\n",
        "    print(i, message.content)"
      ],
      "execution_count": null,
      "outputs": []
    },
    {
      "cell_type": "code",
      "metadata": {
        "id": "zfSSyrxNJ5eB"
      },
      "source": [
        "# Group messages `m0, m1, m2, m3` together\n",
        "messages = KKK\n",
        "\n",
        "print_messages(messages)"
      ],
      "execution_count": null,
      "outputs": []
    },
    {
      "cell_type": "code",
      "metadata": {
        "id": "k2zBcriFlaXi"
      },
      "source": [
        "# Access first message from the list\n",
        "messages[LLL].content"
      ],
      "execution_count": null,
      "outputs": []
    },
    {
      "cell_type": "code",
      "metadata": {
        "id": "DfB4WNlAlr0O"
      },
      "source": [
        "# Access the last message from the list\n",
        "messages[MMM].content"
      ],
      "execution_count": null,
      "outputs": []
    },
    {
      "cell_type": "code",
      "metadata": {
        "id": "k2X690Xql1B3"
      },
      "source": [
        "# Assign the last message to the variable and display message language\n",
        "last_message = messages[NNN]\n",
        "last_message.language"
      ],
      "execution_count": null,
      "outputs": []
    },
    {
      "cell_type": "code",
      "metadata": {
        "id": "D5K5KejanLa6"
      },
      "source": [
        "# Display the language of the last message without assigning to the variable\n",
        "messages[NNN].language"
      ],
      "execution_count": null,
      "outputs": []
    },
    {
      "cell_type": "code",
      "metadata": {
        "id": "Id6lwNVtmHYT"
      },
      "source": [
        "# Append message m4 to the existing list of the messages\n",
        "m4 = Message(\"Can you append me to the list, please?\", \"karen@gmail.com\", datetime(2021, 1, 5))\n",
        "messages.OOO(m4)\n",
        "\n",
        "print_messages(messages)"
      ],
      "execution_count": null,
      "outputs": []
    },
    {
      "cell_type": "code",
      "metadata": {
        "id": "Ebap0NT4ngOt"
      },
      "source": [
        "# ITERATE over the list of messages and print: message content, sender and message language.\n",
        "for PPP in QQQ:\n",
        "  print(PPP.content, PPP.sender_email, PPP.language)"
      ],
      "execution_count": null,
      "outputs": []
    },
    {
      "cell_type": "markdown",
      "metadata": {
        "id": "jvxBKZp8nRZP"
      },
      "source": [
        "# Task 6: \n"
      ]
    },
    {
      "cell_type": "code",
      "metadata": {
        "id": "Xedg0en_aPbd"
      },
      "source": [
        "people_over_40 = [person for person in people if person.age > 40]\n",
        "\n",
        "print_people(people_over_40)"
      ],
      "execution_count": null,
      "outputs": []
    },
    {
      "cell_type": "code",
      "metadata": {
        "id": "cl7oWpTqrtbA"
      },
      "source": [
        "# Write a function returning filtered messages. Filter by message language.\n",
        "\n",
        "def messages_in_language(messages: List[Message], country_code: str) -> List[Message]:\n",
        "  return [RRR for RRR in SSS if RRR.language == country_code]\n",
        "\n",
        "messages = [\n",
        "  Message(\"This message is in English\",          \"xyz@gmail.com\", datetime.now()),\n",
        "  Message(\"This message is also in English\",     \"xyz@gmail.com\", datetime.now()),\n",
        "  Message(\"Ta wiadomość jest po polsku\",         \"xyz@gmail.com\", datetime.now()),\n",
        "  Message(\"Ta wiadomość również jest po polsku\", \"xyz@gmail.com\", datetime.now()),\n",
        "  Message(\"このメッセージは日本語で書かれています。\",   \"xyz@gmail.com\", datetime.now()),\n",
        "  Message(\"このメッセージは日本語でも書かれています\",   \"xyz@gmail.com\", datetime.now()),\n",
        "]\n",
        "\n",
        "print(\"-- PL --\")\n",
        "print_messages(messages_in_language(messages, \"PL\"))\n",
        "print(\"-- EN --\")\n",
        "print_messages(messages_in_language(messages, \"EN\"))\n",
        "print(\"-- JA --\")\n",
        "print_messages(messages_in_language(messages, \"JA\"))"
      ],
      "execution_count": null,
      "outputs": []
    },
    {
      "cell_type": "markdown",
      "metadata": {
        "id": "6wz3rtllMw6k"
      },
      "source": [
        "# Task 7: \n"
      ]
    },
    {
      "cell_type": "code",
      "metadata": {
        "id": "gxNBaSLpvFVY"
      },
      "source": [
        "[1, 1, 1, 1, 1, 2]"
      ],
      "execution_count": null,
      "outputs": []
    },
    {
      "cell_type": "code",
      "metadata": {
        "id": "Oii5vHEFvLPi"
      },
      "source": [
        "(1, 1, 1, 1, 1, 2)"
      ],
      "execution_count": null,
      "outputs": []
    },
    {
      "cell_type": "code",
      "metadata": {
        "id": "vXB9LKlmvQAE"
      },
      "source": [
        "{1, 1, 1, 1, 1, 2}"
      ],
      "execution_count": null,
      "outputs": []
    },
    {
      "cell_type": "code",
      "metadata": {
        "id": "H4Gss1dPMw6m"
      },
      "source": [
        "# Write a function returning unique e-mails from the provided list of messages.\n",
        "\n",
        "def unique_emails(messages: List[Message]) -> List[str]:\n",
        "  return list({message.TTT for message in messages})\n",
        "\n",
        "messages = [\n",
        "  Message(\"Lorem ipsum\", \"anna@gmail.com\", datetime.now()),\n",
        "  Message(\"Lorem ipsum\", \"dan@gmail.com\",  datetime.now()),\n",
        "  Message(\"Lorem ipsum\", \"tom@gmail.com\",  datetime.now()),\n",
        "  Message(\"Lorem ipsum\", \"kate@gmail.com\", datetime.now()),\n",
        "  Message(\"Lorem ipsum\", \"tom@gmail.com\",  datetime.now()),\n",
        "  Message(\"Lorem ipsum\", \"kate@gmail.com\", datetime.now()),\n",
        "  Message(\"Lorem ipsum\", \"anna@gmail.com\", datetime.now()),\n",
        "  Message(\"Lorem ipsum\", \"kate@gmail.com\", datetime.now()),\n",
        "]\n",
        "\n",
        "# This should print, somthing like:\n",
        "# ['tom@gmail.com', 'anna@gmail.com', 'dan@gmail.com', 'kate@gmail.com']\n",
        "# (order might be different)\n",
        "unique_emails(messages)"
      ],
      "execution_count": null,
      "outputs": []
    },
    {
      "cell_type": "markdown",
      "metadata": {
        "id": "JOGgKUXDx356"
      },
      "source": [
        "# Task 8: \n"
      ]
    },
    {
      "cell_type": "code",
      "metadata": {
        "id": "RbDPROw9avi9"
      },
      "source": [
        "sorted_people = sorted(people, key=lambda person: person.age)\n",
        "\n",
        "print_people(sorted_people)"
      ],
      "execution_count": null,
      "outputs": []
    },
    {
      "cell_type": "code",
      "metadata": {
        "id": "NO-du1hNx35-"
      },
      "source": [
        "# Write a function returning messages sorted by date.\n",
        "\n",
        "def messages_sorted_by_date(messages: List[Message]) -> List[Message]:\n",
        "  return sorted(VVV, key=lambda message: message.UUU)\n",
        "\n",
        "messages = [\n",
        "  Message(\"1\", \"example@gmail.com\", datetime(2005, 1, 1)),\n",
        "  Message(\"3\", \"example@gmail.com\", datetime(2006, 6, 2)),\n",
        "  Message(\"6\", \"example@gmail.com\", datetime(2020, 6, 6)),\n",
        "  Message(\"4\", \"example@gmail.com\", datetime(2007, 4, 1)),\n",
        "  Message(\"8\", \"example@gmail.com\", datetime(2021, 5, 5)),\n",
        "  Message(\"2\", \"example@gmail.com\", datetime(2005, 2, 6)),\n",
        "  Message(\"7\", \"example@gmail.com\", datetime(2020, 9, 9)),\n",
        "  Message(\"5\", \"example@gmail.com\", datetime(2010, 9, 1)),\n",
        "]\n",
        "\n",
        "# This should print something like: \"1, 2, 3, 4, 5, 6, 7, 8\"\n",
        "print_messages(messages_sorted_by_date(messages))"
      ],
      "execution_count": null,
      "outputs": []
    }
  ]
}